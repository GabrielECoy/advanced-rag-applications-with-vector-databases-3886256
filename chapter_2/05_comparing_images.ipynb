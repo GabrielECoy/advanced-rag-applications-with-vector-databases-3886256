{
 "cells": [
  {
   "cell_type": "code",
   "execution_count": 1,
   "metadata": {},
   "outputs": [
    {
     "name": "stderr",
     "output_type": "stream",
     "text": [
      "/Users/yujian/Documents/workspace/advanced-rag-applications-with-vector-databases-3886256/ch2/lib/python3.10/site-packages/sentence_transformers/cross_encoder/CrossEncoder.py:11: TqdmWarning: IProgress not found. Please update jupyter and ipywidgets. See https://ipywidgets.readthedocs.io/en/stable/user_install.html\n",
      "  from tqdm.autonotebook import tqdm, trange\n",
      "/Users/yujian/Documents/workspace/advanced-rag-applications-with-vector-databases-3886256/ch2/lib/python3.10/site-packages/transformers/tokenization_utils_base.py:1601: FutureWarning: `clean_up_tokenization_spaces` was not set. It will be set to `True` by default. This behavior will be depracted in transformers v4.45, and will be then set to `False` by default. For more details check this issue: https://github.com/huggingface/transformers/issues/31884\n",
      "  warnings.warn(\n"
     ]
    }
   ],
   "source": [
    "from sentence_transformers import SentenceTransformer\n",
    "from PIL import Image\n",
    "\n",
    "# Load CLIP model\n",
    "model = SentenceTransformer(\"clip-ViT-B-32\")"
   ]
  },
  {
   "cell_type": "code",
   "execution_count": 2,
   "metadata": {},
   "outputs": [],
   "source": [
    "import os\n",
    "from glob import glob"
   ]
  },
  {
   "cell_type": "code",
   "execution_count": 3,
   "metadata": {},
   "outputs": [],
   "source": [
    "images_path=\"../images\"\n",
    "\n",
    "image_paths = glob(os.path.join(images_path, '**/*.jpeg'), recursive=True)\n",
    "\n",
    "def generate_clip_embeddings(image_path, model, default_size= (128, 128)):\n",
    "    image = Image.open(image_path).resize(default_size)\n",
    "    embedding = model.encode(image)\n",
    "\n",
    "    return embedding"
   ]
  },
  {
   "cell_type": "code",
   "execution_count": 4,
   "metadata": {},
   "outputs": [],
   "source": [
    "import faiss\n",
    "import numpy as np"
   ]
  },
  {
   "cell_type": "code",
   "execution_count": 5,
   "metadata": {},
   "outputs": [],
   "source": [
    "def load_faiss_index(index_path):\n",
    "    index = faiss.read_index(index_path)\n",
    "    with open(index_path + '.paths', 'r') as f:\n",
    "        image_paths = [line.strip() for line in f]\n",
    "    print(f\"Index loaded from {index_path}\")\n",
    "    return index, image_paths"
   ]
  },
  {
   "cell_type": "code",
   "execution_count": 6,
   "metadata": {},
   "outputs": [
    {
     "name": "stdout",
     "output_type": "stream",
     "text": [
      "Index loaded from ./indices/vector.index\n"
     ]
    }
   ],
   "source": [
    "index_path = \"./indices/vector.index\"\n",
    "index, image_paths = load_faiss_index(index_path)"
   ]
  },
  {
   "cell_type": "code",
   "execution_count": 9,
   "metadata": {},
   "outputs": [],
   "source": [
    "def retrieve_similar_images(query_path, model, index, image_paths, top_k=3):\n",
    "    \n",
    "    query_embedding = generate_clip_embeddings(query_path, model)\n",
    "\n",
    "    query_embedding = query_embedding.astype(np.float32).reshape(1, -1)\n",
    "\n",
    "    distances, indices = index.search(query_embedding, top_k)\n",
    "\n",
    "    retrieved_images = [image_paths[int(idx)] for idx in indices[0]]\n",
    "\n",
    "    return query_path, retrieved_images, distances\n"
   ]
  },
  {
   "cell_type": "code",
   "execution_count": 10,
   "metadata": {},
   "outputs": [
    {
     "ename": "",
     "evalue": "",
     "output_type": "error",
     "traceback": [
      "\u001b[1;31mThe Kernel crashed while executing code in the current cell or a previous cell. \n",
      "\u001b[1;31mPlease review the code in the cell(s) to identify a possible cause of the failure. \n",
      "\u001b[1;31mClick <a href='https://aka.ms/vscodeJupyterKernelCrash'>here</a> for more info. \n",
      "\u001b[1;31mView Jupyter <a href='command:jupyter.viewOutput'>log</a> for further details."
     ]
    }
   ],
   "source": [
    "qp, retrieved_image_paths, distances = retrieve_similar_images(\"../images/AdobeStock_92071640.jpeg\", model, index, image_paths)"
   ]
  },
  {
   "cell_type": "code",
   "execution_count": null,
   "metadata": {},
   "outputs": [],
   "source": []
  }
 ],
 "metadata": {
  "kernelspec": {
   "display_name": "p310",
   "language": "python",
   "name": "python3"
  },
  "language_info": {
   "codemirror_mode": {
    "name": "ipython",
    "version": 3
   },
   "file_extension": ".py",
   "mimetype": "text/x-python",
   "name": "python",
   "nbconvert_exporter": "python",
   "pygments_lexer": "ipython3",
   "version": "3.10.14"
  }
 },
 "nbformat": 4,
 "nbformat_minor": 2
}
