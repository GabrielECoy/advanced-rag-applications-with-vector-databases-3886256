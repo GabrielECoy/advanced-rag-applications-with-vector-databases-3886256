{
 "cells": [
  {
   "cell_type": "code",
   "execution_count": 1,
   "metadata": {},
   "outputs": [
    {
     "name": "stderr",
     "output_type": "stream",
     "text": [
      "/Users/yujian/Documents/workspace/advanced-rag-applications-with-vector-databases-3886256/ch2/lib/python3.10/site-packages/sentence_transformers/cross_encoder/CrossEncoder.py:11: TqdmWarning: IProgress not found. Please update jupyter and ipywidgets. See https://ipywidgets.readthedocs.io/en/stable/user_install.html\n",
      "  from tqdm.autonotebook import tqdm, trange\n",
      "/Users/yujian/Documents/workspace/advanced-rag-applications-with-vector-databases-3886256/ch2/lib/python3.10/site-packages/transformers/tokenization_utils_base.py:1601: FutureWarning: `clean_up_tokenization_spaces` was not set. It will be set to `True` by default. This behavior will be depracted in transformers v4.45, and will be then set to `False` by default. For more details check this issue: https://github.com/huggingface/transformers/issues/31884\n",
      "  warnings.warn(\n"
     ]
    }
   ],
   "source": [
    "from sentence_transformers import SentenceTransformer\n",
    "from PIL import Image\n",
    "\n",
    "# Load CLIP model\n",
    "model = SentenceTransformer(\"clip-ViT-B-32\")"
   ]
  },
  {
   "cell_type": "code",
   "execution_count": 2,
   "metadata": {},
   "outputs": [],
   "source": [
    "import os\n",
    "from glob import glob\n"
   ]
  },
  {
   "cell_type": "code",
   "execution_count": 3,
   "metadata": {},
   "outputs": [],
   "source": [
    "def generate_clip_embeddings(images_path, model, default_size= (128, 128)):\n",
    "\n",
    "    image_paths = glob(os.path.join(images_path, '**/*.jpeg'), recursive=True)\n",
    "    \n",
    "    embeddings = []\n",
    "    for img_path in image_paths:\n",
    "        image = Image.open(img_path).resize(default_size)\n",
    "        embedding = model.encode(image)\n",
    "        embeddings.append(embedding)\n",
    "\n",
    "    return embeddings, image_paths"
   ]
  },
  {
   "cell_type": "code",
   "execution_count": 4,
   "metadata": {},
   "outputs": [],
   "source": [
    "embeddings, image_paths = generate_clip_embeddings(images_path=\"../images\", model=model)"
   ]
  },
  {
   "cell_type": "code",
   "execution_count": 5,
   "metadata": {},
   "outputs": [],
   "source": [
    "import faiss\n",
    "import numpy as np"
   ]
  },
  {
   "cell_type": "code",
   "execution_count": 9,
   "metadata": {},
   "outputs": [
    {
     "name": "stdout",
     "output_type": "stream",
     "text": [
      "Index created and saved to ./indices/vector.index\n"
     ]
    }
   ],
   "source": [
    "dimension = len(embeddings[0])\n",
    "index = faiss.IndexFlatIP(dimension)\n",
    "index = faiss.IndexIDMap(index)\n",
    "\n",
    "vectors = np.array(embeddings).astype(np.float32)\n",
    "\n",
    "# Add vectors to the index with IDs\n",
    "index.add_with_ids(vectors, np.array(range(len(embeddings))))\n",
    "\n",
    "# Save the index\n",
    "faiss.write_index(index, output_path)\n",
    "print(f\"Index created and saved to {output_path}\")\n",
    "\n",
    "# Save image paths\n",
    "with open(output_path + '.paths', 'w') as f:\n",
    "    for img_path in image_paths:\n",
    "        f.write(img_path + '\\n')"
   ]
  },
  {
   "cell_type": "code",
   "execution_count": null,
   "metadata": {},
   "outputs": [],
   "source": []
  }
 ],
 "metadata": {
  "kernelspec": {
   "display_name": "p310",
   "language": "python",
   "name": "python3"
  },
  "language_info": {
   "codemirror_mode": {
    "name": "ipython",
    "version": 3
   },
   "file_extension": ".py",
   "mimetype": "text/x-python",
   "name": "python",
   "nbconvert_exporter": "python",
   "pygments_lexer": "ipython3",
   "version": "3.10.14"
  }
 },
 "nbformat": 4,
 "nbformat_minor": 2
}
