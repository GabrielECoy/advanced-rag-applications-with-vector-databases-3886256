{
 "cells": [
  {
   "cell_type": "code",
   "execution_count": 1,
   "metadata": {},
   "outputs": [
    {
     "data": {
      "text/plain": [
       "['../images/dog_4.jpeg',\n",
       " '../images/dog_1.jpeg',\n",
       " '../images/cat_5.jpeg',\n",
       " '../images/cat_3.jpeg',\n",
       " '../images/dog_5.jpeg',\n",
       " '../images/dog_2.jpeg',\n",
       " '../images/cat_4.jpeg',\n",
       " '../images/dog_3.jpeg',\n",
       " '../images/cat_2.jpeg',\n",
       " '../images/cat_1.jpeg']"
      ]
     },
     "execution_count": 1,
     "metadata": {},
     "output_type": "execute_result"
    }
   ],
   "source": [
    "from langchain_experimental.open_clip import OpenCLIPEmbeddings\n",
    "import glob\n",
    "\n",
    "paths = glob.glob('../images/*.jpeg', recursive=True)\n",
    "# Note: recursive=True flag is not actually useful because the pattern ../images/*.jpeg does not include the ** wildcard, which is required\n",
    "# for recursive directory traversal.\n",
    "\n",
    "paths"
   ]
  },
  {
   "cell_type": "code",
   "execution_count": null,
   "metadata": {},
   "outputs": [
    {
     "ename": "",
     "evalue": "",
     "output_type": "error",
     "traceback": [
      "\u001b[1;31mThe Kernel crashed while executing code in the current cell or a previous cell. \n",
      "\u001b[1;31mPlease review the code in the cell(s) to identify a possible cause of the failure. \n",
      "\u001b[1;31mClick <a href='https://aka.ms/vscodeJupyterKernelCrash'>here</a> for more info. \n",
      "\u001b[1;31mView Jupyter <a href='command:jupyter.viewOutput'>log</a> for further details."
     ]
    }
   ],
   "source": [
    "# I got the following error:\n",
    "# \"/workspaces/advanced-rag-applications-with-vector-databases-3886256/ch2/lib/python3.12/site-packages/tqdm/auto.py:21:\n",
    "# TqdmWarning: IProgress not found. Please update jupyter and ipywidgets. See https://ipywidgets.readthedocs.io/en/stable/user_install.html\n",
    "# from .autonotebook import tqdm as notebook_tqdm#\n",
    "\n",
    "# First I tried the Gemini solution below by did not work\n",
    "# So I followed the instruction in the linked page and run:\n",
    "# pip install ipywidgets\n",
    "# (ignored the 2nd line \"from .autonotebook import tqdm as notebook_tqdm\")\n",
    "# It still did not work\n",
    "#\n",
    "# Gemini actually suggested 3 steps\n",
    "# Update jupyterlab and notebook (if you use both): pip install --upgrade jupyterlab notebook\n",
    "# Update ipywidgets: pip install --upgrade ipywidgets\n",
    "# Ensure widgetsnbextension is enabled (for classic Jupyter Notebook): jupyter nbextension enable --py widgetsnbextension\n",
    "# The 3rd did not work \"Jupyter command `jupyter-nbextension` not found\"\n",
    "#\n",
    "# Gemini about the error:\n",
    "# This usually happens because nbextension is a command from the classic Jupyter Notebook environment, and you are\n",
    "# likely running in a modern environment like JupyterLab or using a newer installation where the classic notebook\n",
    "# components are not fully installed or configured.\n",
    "# Fix for JupyterLab (Recommended) 🚀\n",
    "# Install the JupyterLab Widget Extension:\n",
    "# pip install jupyterlab\n",
    "# jupyter labextension install @jupyter-widgets/jupyterlab-manager\n",
    "# Update ipywidgets (Good practice):\n",
    "# pip install --upgrade ipywidgets\n",
    "\n",
    "embedding_model = OpenCLIPEmbeddings()"
   ]
  },
  {
   "cell_type": "code",
   "execution_count": null,
   "metadata": {},
   "outputs": [],
   "source": [
    "embeddings = embedding_model.embed_image(paths)"
   ]
  },
  {
   "cell_type": "code",
   "execution_count": null,
   "metadata": {},
   "outputs": [],
   "source": [
    "embeddings[0]"
   ]
  },
  {
   "cell_type": "code",
   "execution_count": null,
   "metadata": {},
   "outputs": [],
   "source": [
    "len(embeddings[0])"
   ]
  },
  {
   "cell_type": "code",
   "execution_count": null,
   "metadata": {},
   "outputs": [],
   "source": []
  }
 ],
 "metadata": {
  "kernelspec": {
   "display_name": "ch2 (3.12.1)",
   "language": "python",
   "name": "python3"
  },
  "language_info": {
   "codemirror_mode": {
    "name": "ipython",
    "version": 3
   },
   "file_extension": ".py",
   "mimetype": "text/x-python",
   "name": "python",
   "nbconvert_exporter": "python",
   "pygments_lexer": "ipython3",
   "version": "3.12.1"
  }
 },
 "nbformat": 4,
 "nbformat_minor": 2
}
