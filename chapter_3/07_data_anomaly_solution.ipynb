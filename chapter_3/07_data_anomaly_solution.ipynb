{
 "cells": [
  {
   "cell_type": "code",
   "execution_count": 1,
   "metadata": {},
   "outputs": [],
   "source": [
    "from langchain_core.documents import Document\n",
    "from langchain_community.vectorstores import FAISS\n",
    "from langchain_experimental.open_clip import OpenCLIPEmbeddings\n",
    "import glob\n",
    "import base64\n",
    "\n",
    "paths = glob.glob('../images/*.jpeg', recursive=True)"
   ]
  },
  {
   "cell_type": "code",
   "execution_count": 2,
   "metadata": {},
   "outputs": [],
   "source": [
    "lc_docs = []\n",
    "def encode_image(path):\n",
    "    with open(path, \"rb\") as image_file:\n",
    "        return base64.b64encode(image_file.read()).decode(\"utf-8\")\n",
    "\n",
    "for path in paths:\n",
    "    doc = Document(\n",
    "        page_content=encode_image(path),\n",
    "        metadata ={\n",
    "            'source': path\n",
    "        }\n",
    "    )\n",
    "    lc_docs.append(doc)"
   ]
  },
  {
   "cell_type": "code",
   "execution_count": 3,
   "metadata": {},
   "outputs": [],
   "source": [
    "vector_store = FAISS.from_documents(lc_docs, embedding=OpenCLIPEmbeddings())"
   ]
  },
  {
   "cell_type": "code",
   "execution_count": 5,
   "metadata": {},
   "outputs": [],
   "source": [
    "retriever = vector_store.as_retriever()"
   ]
  },
  {
   "cell_type": "code",
   "execution_count": 6,
   "metadata": {},
   "outputs": [
    {
     "name": "stdout",
     "output_type": "stream",
     "text": [
      "{'source': '../images/dog_5.jpeg'}\n",
      "{'source': '../images/dog_3.jpeg'}\n",
      "{'source': '../images/cat_3.jpeg'}\n",
      "{'source': '../images/dog_2.jpeg'}\n"
     ]
    }
   ],
   "source": [
    "docs = retriever.invoke(\"rottweiler\", k=4) # dog 5\n",
    "\n",
    "for doc in docs:\n",
    "    print(doc.metadata)"
   ]
  },
  {
   "cell_type": "code",
   "execution_count": 18,
   "metadata": {},
   "outputs": [
    {
     "name": "stdout",
     "output_type": "stream",
     "text": [
      "{'source': '../images/cat_1.jpeg'}\n",
      "{'source': '../images/cat_2.jpeg'}\n",
      "{'source': '../images/dog_2.jpeg'}\n",
      "{'source': '../images/dog_5.jpeg'}\n"
     ]
    }
   ],
   "source": [
    "docs = retriever.invoke(encode_image(\"../images/cat_1.jpeg\"), k=4) # cat 1\n",
    "\n",
    "for doc in docs:\n",
    "    print(doc.metadata)"
   ]
  },
  {
   "cell_type": "code",
   "execution_count": 20,
   "metadata": {},
   "outputs": [
    {
     "name": "stdout",
     "output_type": "stream",
     "text": [
      "{'source': '../images/dog_5.jpeg'}\n",
      "{'source': '../images/dog_3.jpeg'}\n",
      "{'source': '../images/cat_3.jpeg'}\n",
      "{'source': '../images/cat_2.jpeg'}\n"
     ]
    }
   ],
   "source": [
    "docs = retriever.invoke(\"gray cat with long hair in a field\", k=4) # cat 2\n",
    "\n",
    "for doc in docs:\n",
    "    print(doc.metadata)"
   ]
  },
  {
   "cell_type": "code",
   "execution_count": 12,
   "metadata": {},
   "outputs": [
    {
     "name": "stdout",
     "output_type": "stream",
     "text": [
      "{'source': '../images/dog_2.jpeg'}\n",
      "{'source': '../images/dog_3.jpeg'}\n",
      "{'source': '../images/cat_3.jpeg'}\n",
      "{'source': '../images/dog_5.jpeg'}\n"
     ]
    }
   ],
   "source": [
    "docs = retriever.invoke(\"golden retriever playing with orange ball\", k=4) # dog 2\n",
    "\n",
    "for doc in docs:\n",
    "    print(doc.metadata)"
   ]
  },
  {
   "cell_type": "code",
   "execution_count": 14,
   "metadata": {},
   "outputs": [
    {
     "name": "stdout",
     "output_type": "stream",
     "text": [
      "{'source': '../images/cat_3.jpeg'}\n",
      "{'source': '../images/dog_3.jpeg'}\n",
      "{'source': '../images/dog_2.jpeg'}\n",
      "{'source': '../images/dog_5.jpeg'}\n"
     ]
    }
   ],
   "source": [
    "docs = retriever.invoke(\"golden retriever in field with a sunny blurred background\", k=4) # dog 4\n",
    "\n",
    "for doc in docs:\n",
    "    print(doc.metadata)"
   ]
  },
  {
   "cell_type": "code",
   "execution_count": null,
   "metadata": {},
   "outputs": [],
   "source": []
  }
 ],
 "metadata": {
  "kernelspec": {
   "display_name": "xyz",
   "language": "python",
   "name": "python3"
  },
  "language_info": {
   "codemirror_mode": {
    "name": "ipython",
    "version": 3
   },
   "file_extension": ".py",
   "mimetype": "text/x-python",
   "name": "python",
   "nbconvert_exporter": "python",
   "pygments_lexer": "ipython3",
   "version": "3.11.2"
  }
 },
 "nbformat": 4,
 "nbformat_minor": 2
}
