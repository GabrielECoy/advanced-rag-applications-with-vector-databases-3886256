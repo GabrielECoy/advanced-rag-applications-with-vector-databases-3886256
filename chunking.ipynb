{
 "cells": [
  {
   "cell_type": "code",
   "execution_count": null,
   "metadata": {},
   "outputs": [],
   "source": [
    "# ! pip install langchain langchain-text-splitters lxml tiktoken"
   ]
  },
  {
   "cell_type": "code",
   "execution_count": 4,
   "metadata": {},
   "outputs": [],
   "source": [
    "from langchain.text_splitter import CharacterTextSplitter\n",
    "from langchain.schema import Document\n",
    "import os"
   ]
  },
  {
   "cell_type": "code",
   "execution_count": 5,
   "metadata": {},
   "outputs": [],
   "source": [
    "data_dir = \"./city_data\""
   ]
  },
  {
   "cell_type": "code",
   "execution_count": 8,
   "metadata": {},
   "outputs": [
    {
     "name": "stderr",
     "output_type": "stream",
     "text": [
      "Created a chunk of size 1311, which is longer than the specified 1024\n",
      "Created a chunk of size 1043, which is longer than the specified 1024\n",
      "Created a chunk of size 1110, which is longer than the specified 1024\n",
      "Created a chunk of size 1280, which is longer than the specified 1024\n",
      "Created a chunk of size 2076, which is longer than the specified 1024\n",
      "Created a chunk of size 1040, which is longer than the specified 1024\n",
      "Created a chunk of size 1045, which is longer than the specified 1024\n",
      "Created a chunk of size 1027, which is longer than the specified 1024\n",
      "Created a chunk of size 1344, which is longer than the specified 1024\n",
      "Created a chunk of size 1036, which is longer than the specified 1024\n",
      "Created a chunk of size 1141, which is longer than the specified 1024\n",
      "Created a chunk of size 1049, which is longer than the specified 1024\n",
      "Created a chunk of size 1095, which is longer than the specified 1024\n"
     ]
    }
   ],
   "source": [
    "files = os.listdir(data_dir)\n",
    "file_texts = []\n",
    "for file in files:\n",
    "    with open(f\"{data_dir}/{file}\") as f:\n",
    "        file_text = f.read()\n",
    "    text_splitter = CharacterTextSplitter.from_tiktoken_encoder(\n",
    "        chunk_size=1024, chunk_overlap=128, \n",
    "    )\n",
    "    texts = text_splitter.split_text(file_text)\n",
    "    for i, chunked_text in enumerate(texts):\n",
    "        file_texts.append(Document(page_content=chunked_text, \n",
    "                metadata={\"doc_title\": file.split(\".\")[0], \"chunk_num\": i}))"
   ]
  },
  {
   "cell_type": "code",
   "execution_count": null,
   "metadata": {},
   "outputs": [],
   "source": []
  }
 ],
 "metadata": {
  "kernelspec": {
   "display_name": "course",
   "language": "python",
   "name": "python3"
  },
  "language_info": {
   "codemirror_mode": {
    "name": "ipython",
    "version": 3
   },
   "file_extension": ".py",
   "mimetype": "text/x-python",
   "name": "python",
   "nbconvert_exporter": "python",
   "pygments_lexer": "ipython3",
   "version": "3.12.3"
  }
 },
 "nbformat": 4,
 "nbformat_minor": 2
}
