{
 "cells": [
  {
   "cell_type": "code",
   "execution_count": 2,
   "metadata": {},
   "outputs": [],
   "source": [
    "# ! pip install langchain langchain-text-splitters lxml tiktoken"
   ]
  },
  {
   "cell_type": "code",
   "execution_count": 10,
   "metadata": {},
   "outputs": [],
   "source": [
    "from langchain.text_splitter import CharacterTextSplitter\n",
    "from langchain.schema import Document\n",
    "import os"
   ]
  },
  {
   "cell_type": "code",
   "execution_count": 11,
   "metadata": {},
   "outputs": [],
   "source": [
    "data_dir = \"./philosophers\""
   ]
  },
  {
   "cell_type": "code",
   "execution_count": 16,
   "metadata": {},
   "outputs": [
    {
     "name": "stderr",
     "output_type": "stream",
     "text": [
      "Created a chunk of size 1225, which is longer than the specified 1024\n",
      "Created a chunk of size 1052, which is longer than the specified 1024\n",
      "Created a chunk of size 1787, which is longer than the specified 1024\n",
      "Created a chunk of size 1149, which is longer than the specified 1024\n",
      "Created a chunk of size 1193, which is longer than the specified 1024\n",
      "Created a chunk of size 2094, which is longer than the specified 1024\n",
      "Created a chunk of size 1324, which is longer than the specified 1024\n",
      "Created a chunk of size 1717, which is longer than the specified 1024\n"
     ]
    }
   ],
   "source": [
    "files = os.listdir(data_dir)\n",
    "file_texts = []\n",
    "for file in files:\n",
    "    with open(f\"{data_dir}/{file}\") as f:\n",
    "        file_text = f.read()\n",
    "    text_splitter = CharacterTextSplitter.from_tiktoken_encoder(\n",
    "        chunk_size=1024, chunk_overlap=128, # this is the critical line\n",
    "    )\n",
    "    texts = text_splitter.split_text(file_text)\n",
    "    for chunked_text in texts:\n",
    "        file_texts.append(Document(page_content=chunked_text))"
   ]
  },
  {
   "cell_type": "code",
   "execution_count": 17,
   "metadata": {},
   "outputs": [
    {
     "name": "stdout",
     "output_type": "stream",
     "text": [
      "('Arthur Schopenhauer ( SHOH-pən-how-ər, German: [ˈaʁtuːɐ̯ ˈʃoːpn̩haʊɐ] ; 22 '\n",
      " 'February 1788 – 21 September 1860) was a German philosopher. He is known for '\n",
      " 'his 1818 work The World as Will and Representation (expanded in 1844), which '\n",
      " 'characterizes the phenomenal world as the manifestation of a blind and '\n",
      " 'irrational noumenal will. Building on the transcendental idealism of '\n",
      " 'Immanuel Kant (1724–1804), Schopenhauer developed an atheistic metaphysical '\n",
      " 'and ethical system that rejected the contemporaneous ideas of German '\n",
      " 'idealism.\\n'\n",
      " 'Schopenhauer was among the first thinkers in Western philosophy to share and '\n",
      " 'affirm significant tenets of Indian philosophy, such as asceticism, denial '\n",
      " 'of the self, and the notion of the world-as-appearance. His work has been '\n",
      " 'described as an exemplary manifestation of philosophical pessimism. Though '\n",
      " 'his work failed to garner substantial attention during his lifetime, he had '\n",
      " 'a posthumous impact across various disciplines, including philosophy, '\n",
      " 'literature, and science. His writing on aesthetics, morality, and psychology '\n",
      " 'have influenced many thinkers and artists.\\n'\n",
      " '\\n'\n",
      " '\\n'\n",
      " '== Life ==\\n'\n",
      " '\\n'\n",
      " '\\n'\n",
      " '=== Early life ===')\n"
     ]
    }
   ],
   "source": [
    "from pprint import pprint\n",
    "\n",
    "pprint(file_texts[0].page_content)"
   ]
  },
  {
   "cell_type": "code",
   "execution_count": null,
   "metadata": {},
   "outputs": [],
   "source": []
  }
 ],
 "metadata": {
  "kernelspec": {
   "display_name": "course",
   "language": "python",
   "name": "python3"
  },
  "language_info": {
   "codemirror_mode": {
    "name": "ipython",
    "version": 3
   },
   "file_extension": ".py",
   "mimetype": "text/x-python",
   "name": "python",
   "nbconvert_exporter": "python",
   "pygments_lexer": "ipython3",
   "version": "3.10.10"
  }
 },
 "nbformat": 4,
 "nbformat_minor": 2
}
