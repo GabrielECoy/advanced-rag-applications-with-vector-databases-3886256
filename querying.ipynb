{
 "cells": [
  {
   "cell_type": "code",
   "execution_count": 2,
   "metadata": {},
   "outputs": [],
   "source": [
    "# ! pip install langchain langchain-text-splitters lxml tiktoken faiss-cpu sentence-transformers langchain-community"
   ]
  },
  {
   "cell_type": "code",
   "execution_count": 1,
   "metadata": {},
   "outputs": [],
   "source": [
    "from langchain.text_splitter import CharacterTextSplitter\n",
    "from langchain.schema import Document\n",
    "import os"
   ]
  },
  {
   "cell_type": "code",
   "execution_count": 2,
   "metadata": {},
   "outputs": [],
   "source": [
    "data_dir = \"./philosophers\""
   ]
  },
  {
   "cell_type": "code",
   "execution_count": 3,
   "metadata": {},
   "outputs": [
    {
     "name": "stderr",
     "output_type": "stream",
     "text": [
      "Created a chunk of size 1225, which is longer than the specified 1024\n",
      "Created a chunk of size 1052, which is longer than the specified 1024\n",
      "Created a chunk of size 1787, which is longer than the specified 1024\n",
      "Created a chunk of size 1149, which is longer than the specified 1024\n",
      "Created a chunk of size 1193, which is longer than the specified 1024\n",
      "Created a chunk of size 2094, which is longer than the specified 1024\n",
      "Created a chunk of size 1324, which is longer than the specified 1024\n",
      "Created a chunk of size 1717, which is longer than the specified 1024\n"
     ]
    }
   ],
   "source": [
    "files = os.listdir(data_dir)\n",
    "file_texts = []\n",
    "for file in files:\n",
    "    with open(f\"{data_dir}/{file}\") as f:\n",
    "        file_text = f.read()\n",
    "    text_splitter = CharacterTextSplitter.from_tiktoken_encoder(\n",
    "        chunk_size=1024, chunk_overlap=128, \n",
    "    )\n",
    "    texts = text_splitter.split_text(file_text)\n",
    "    for i, chunked_text in enumerate(texts):\n",
    "        file_texts.append(Document(page_content=chunked_text, \n",
    "                metadata={\"doc_title\": file.split(\".\")[0], \"chunk_num\": i})) "
   ]
  },
  {
   "cell_type": "code",
   "execution_count": 4,
   "metadata": {},
   "outputs": [],
   "source": [
    "from langchain.vectorstores import FAISS\n",
    "from langchain_community.embeddings import HuggingFaceEmbeddings"
   ]
  },
  {
   "cell_type": "code",
   "execution_count": 5,
   "metadata": {},
   "outputs": [
    {
     "name": "stderr",
     "output_type": "stream",
     "text": [
      "/Users/yujian/Documents/workspace/advanced-rag-applications-with-vector-databases-3886256/p310/lib/python3.10/site-packages/langchain_core/_api/deprecation.py:139: LangChainDeprecationWarning: The class `HuggingFaceEmbeddings` was deprecated in LangChain 0.2.2 and will be removed in 0.3.0. An updated version of the class exists in the langchain-huggingface package and should be used instead. To use it run `pip install -U langchain-huggingface` and import as `from langchain_huggingface import HuggingFaceEmbeddings`.\n",
      "  warn_deprecated(\n",
      "/Users/yujian/Documents/workspace/advanced-rag-applications-with-vector-databases-3886256/p310/lib/python3.10/site-packages/sentence_transformers/cross_encoder/CrossEncoder.py:11: TqdmWarning: IProgress not found. Please update jupyter and ipywidgets. See https://ipywidgets.readthedocs.io/en/stable/user_install.html\n",
      "  from tqdm.autonotebook import tqdm, trange\n"
     ]
    }
   ],
   "source": [
    "embeddings = HuggingFaceEmbeddings() # embed your data"
   ]
  },
  {
   "cell_type": "code",
   "execution_count": 6,
   "metadata": {},
   "outputs": [],
   "source": [
    "# store the embedded data into a vector database\n",
    "vector_store = FAISS.from_documents(\n",
    "    file_texts,\n",
    "    embedding=embeddings\n",
    ")"
   ]
  },
  {
   "cell_type": "code",
   "execution_count": 7,
   "metadata": {},
   "outputs": [],
   "source": [
    "retriever = vector_store.as_retriever()"
   ]
  },
  {
   "cell_type": "code",
   "execution_count": 8,
   "metadata": {},
   "outputs": [
    {
     "data": {
      "text/plain": [
       "[Document(metadata={'doc_title': 'Plato', 'chunk_num': 1}, page_content='== Biography ==\\n\\nPlato, whose actual name was Aristocles, was born in Athens or Aegina, between 428 and 423 BC. He was a member of an aristocratic and influential family. His father was Ariston, who may have been a descendant of two kings—Codrus and Melanthus. His mother was Perictione, descendant of Solon, a statesman credited with laying the foundations of Athenian democracy. Plato had two brothers, Glaucon and Adeimantus, a sister, Potone, and a half brother, Antiphon.\\nPlato may have travelled to Italy, Sicily, Egypt, and Cyrene. At 40, he founded a school of philosophy, the Academy. It was located in Athens, on a plot of land in the Grove of Hecademus or Academus, named after an Attic hero in Greek mythology. The Academy operated until it was destroyed by Sulla in 84 BC. Many philosophers studied at the Academy, the most prominent being Aristotle.\\nAccording to Diogenes Laertius, throughout his later life, Plato became entangled with the politics of the city of Syracuse, where he attempted to replace the tyrant Dionysius, with Dionysius\\'s brother-in-law, Dion of Syracuse, whom Plato had recruited as one of his followers, but the tyrant himself turned against Plato. Plato almost faced death, but was sold into slavery. Anniceris, a Cyrenaic philosopher, bought Plato\\'s freedom for twenty minas, and sent him home. Philodemus however states that Plato was sold as a slave as early as in 404 BC, when the Spartans conquered Aegina, or, alternatively, in 399 BC, immediately after the death of Socrates. After Dionysius\\'s death, according to Plato\\'s Seventh Letter, Dion requested Plato return to Syracuse to tutor Dionysius II, who seemed to accept Plato\\'s teachings, but eventually became suspicious of their motives, expelling Dion and holding Plato against his will. Eventually Plato left Syracuse and Dion would return to overthrow Dionysius and rule Syracuse, before being usurped by Callippus, a fellow disciple of Plato.\\nA variety of sources have given accounts of Plato\\'s death. One story, based on a mutilated manuscript, suggests Plato died in his bed, whilst a young Thracian girl played the flute to him. Another tradition suggests Plato died at a wedding feast. The account is based on Diogenes Laertius\\'s reference to an account by Hermippus, a third-century Alexandrian. According to Tertullian, Plato simply died in his sleep. According to Philodemus, Plato was buried in the garden of his academy in Athens, close to the sacred shrine of the Muses.\\n\\n\\n== Influences ==\\n\\n\\n=== Socrates ===\\n\\nPlato never speaks in his own voice in his dialogues; every dialogue except the Laws features Socrates, although many dialogues, including the Timaeus and Statesman, feature him speaking only rarely. Leo Strauss notes that Socrates\\' reputation for irony casts doubt on whether Plato\\'s Socrates is expressing sincere beliefs. Xenophon\\'s Memorabilia and Aristophanes\\'s The Clouds seem to present a somewhat different portrait of Socrates from the one Plato paints. Aristotle attributes a different doctrine with respect to Forms to Plato and Socrates. Aristotle suggests that Socrates\\' idea of forms can be discovered through investigation of the natural world, unlike Plato\\'s Forms that exist beyond and outside the ordinary range of human understanding. The Socratic problem concerns how to reconcile these various accounts. The precise relationship between Plato and Socrates remains an area of contention among scholars.\\n\\n\\n=== Pythagoreanism ===\\n\\nAlthough Socrates influenced Plato directly, the influence of Pythagoras, or in a broader sense, the Pythagoreans, such as Archytas also appears to have been significant. Aristotle and Cicero both claimed that the philosophy of Plato closely followed the teachings of the Pythagoreans. According to R. M. Hare, this influence consists of three points:\\n\\nThe platonic Republic might be related to the idea of \"a tightly organized community of like-minded thinkers\", like the one established by Pythagoras in Croton.\\nThe idea that mathematics and, generally speaking, abstract thinking is a secure basis for philosophical thinking as well as \"for substantial theses in science and morals\".\\nThey shared a \"mystical approach to the soul and its place in the material world\".\\nPythagoras held that all things are number, and the cosmos comes from numerical principles. He introduced the concept of form as distinct from matter, and that the physical world is an imitation of an eternal mathematical world. These ideas were very influential on Heraclitus, Parmenides and Plato.\\n\\n\\n=== Heraclitus and Parmenides ==='),\n",
       " Document(metadata={'doc_title': 'Plato', 'chunk_num': 0}, page_content='Plato ( PLAY-toe; Greek: Πλάτων), born Aristocles (Ἀριστοκλῆς; c.\\u2009427 – 348 BC), was an ancient Greek philosopher of the Classical period who is considered a foundational thinker in Western philosophy and an innovator of the written dialogue and dialectic forms. He raised problems for what became all the major areas of both theoretical philosophy and practical philosophy, and was the founder of the Platonic Academy, a philosophical school in Athens where Plato taught the doctrines that would later become known as Platonism. \\nPlato\\'s most famous contribution is the theory of forms (or ideas), which has been interpreted as advancing a solution to what is now known as the problem of universals. He was decisively influenced by the pre-Socratic thinkers Pythagoras, Heraclitus, and Parmenides, although much of what is known about them is derived from Plato himself.\\nAlong with his teacher Socrates, and Aristotle, his student, Plato is a central figure in the history of philosophy. Plato\\'s entire body of work is believed to have survived intact for over 2,400 years—unlike that of nearly all of his contemporaries. Although their popularity has fluctuated, they have consistently been read and studied through the ages. Through Neoplatonism, he also greatly influenced both Christian and Islamic philosophy. In modern times, Alfred North Whitehead famously said: \"the safest general characterization of the European philosophical tradition is that it consists of a series of footnotes to Plato.\"\\n\\n\\n== Names ==\\nPlato (Greek: Πλάτων, Plátōn, from Ancient Greek: πλατύς, romanized: platys, lit.\\u2009\\'broad\\') is actually a nickname. Although it is a fact that the philosopher called himself Platon in his maturity, the origin of this name remains mysterious. Platon was a fairly common name (31 instances are known from Athens alone), but the name does not occur in Plato\\'s known family line.\\nThe sources of Diogenes Laertius account for this by claiming his wrestling coach, Ariston of Argos, dubbed him \"broad\" on account of his chest and shoulders, or that Plato derived his name from the breadth of his eloquence, or his wide forehead. Philodemus, in extracts from the Herculaneum papyri, corroborates the claim that Plato was named for his \"broad forehead\".\\nWhile recalling a moral lesson about frugal living, Seneca mentions the meaning of Plato\\'s name: \"His very name was given him because of his broad chest.\" According to Diogenes Laertius, his birth name was Aristocles (Ἀριστοκλῆς), meaning \\'best reputation\\'.\\n\\n\\n== Biography =='),\n",
       " Document(metadata={'doc_title': 'Plato', 'chunk_num': 6}, page_content='== Legacy ==\\n\\n\\n=== Unwritten doctrines ===\\n\\nPlato\\'s unwritten doctrines are, according to some ancient sources, the most fundamental metaphysical teaching of Plato, which he disclosed only orally, and some say only to his most trusted fellows, and which he may have kept secret from the public, although many modern scholars doubt these claims. A reason for not revealing it to everyone is partially discussed in Phaedrus where Plato criticizes the written transmission of knowledge as faulty, favouring instead the spoken logos: \"he who has knowledge of the just and the good and beautiful ... will not, when in earnest, write them in ink, sowing them through a pen with words, which cannot defend themselves by argument and cannot teach the truth effectually.\" It is, however, said that Plato once disclosed this knowledge to the public in his lecture On the Good (Περὶ τἀγαθοῦ), in which the Good (τὸ ἀγαθόν) is identified with the One (the Unity, τὸ ἕν), the fundamental ontological principle.\\nThe first witness who mentions its existence is Aristotle, who in his Physics writes: \"It is true, indeed, that the account he gives there [i.e. in Timaeus] of the participant is different from what he says in his so-called unwritten teachings (Ancient Greek: ἄγραφα δόγματα, romanized: agrapha dogmata).\" In Metaphysics he writes: \"Now since the Forms are the causes of everything else, he [i.e. Plato] supposed that their elements are the elements of all things. Accordingly, the material principle is the Great and Small [i.e. the Dyad], and the essence is the One (τὸ ἕν), since the numbers are derived from the Great and Small by participation in the One\". \"From this account it is clear that he only employed two causes: that of the essence, and the material cause; for the Forms are the cause of the essence in everything else, and the One is the cause of it in the Forms. He also tells us what the material substrate is of which the Forms are predicated in the case of sensible things, and the One in that of the Forms – that it is this the duality (the Dyad, ἡ δυάς), the Great and Small (τὸ μέγα καὶ τὸ μικρόν). Further, he assigned to these two elements respectively the causation of good and of evil\".\\nThe most important aspect of this interpretation of Plato\\'s metaphysics is the continuity between his teaching and the Neoplatonic interpretation of Plotinus or Ficino which has been considered erroneous by many but may in fact have been directly influenced by oral transmission of Plato\\'s doctrine. A modern scholar who recognized the importance of the unwritten doctrine of Plato was Heinrich Gomperz who described it in his speech during the 7th International Congress of Philosophy in 1930. All the sources related to the ἄγραφα δόγματα have been collected by Konrad Gaiser and published as Testimonia Platonica.\\n\\n\\n=== Reception ==='),\n",
       " Document(metadata={'doc_title': 'Plato', 'chunk_num': 2}, page_content='=== Heraclitus and Parmenides ===\\n\\nThe two philosophers Heraclitus and Parmenides, influenced by earlier pre-Socratic Greek philosophers such as Pythagoras and Xenophanes, departed from mythological explanations for the universe and began the metaphysical tradition that strongly influenced Plato and continues today. Heraclitus viewed all things as continuously changing, that one cannot \"step into the same river twice\" due to the ever-changing waters flowing through it, and all things exist as a contraposition of opposites. According to Diogenes Laertius, Plato received these ideas through Heraclitus\\' disciple Cratylus. Parmenides adopted an altogether contrary vision, arguing for the idea of a changeless, eternal universe and the view that change is an illusion. Plato\\'s most self-critical dialogue is the Parmenides, which features Parmenides and his student Zeno, which criticizes Plato\\'s own metaphysical theories. Plato\\'s Sophist dialogue includes an Eleatic stranger. These ideas about change and permanence, or becoming and Being, influenced Plato in formulating his theory of Forms.\\n\\n\\n== Philosophy ==\\n\\nIn Plato\\'s dialogues, Socrates and his company of disputants had something to say on many subjects, including several aspects of metaphysics. These include religion and science, human nature, love, and sexuality. More than one dialogue contrasts perception and reality, nature and custom, and body and soul. Francis Cornford identified the \"twin pillars of Platonism\" as the theory of Forms, on the one hand, and, on the other hand, the doctrine of immortality of the soul.\\n\\n\\n=== The Forms ===\\n\\nIn the dialogues Socrates regularly asks for the meaning of a general term (e. g. justice, truth, beauty), and criticizes those who instead give him particular examples, rather than the quality shared by all examples. \"Platonism\" and its theory of Forms (also known as \\'theory of Ideas\\') denies the reality of the material world, considering it only an image or copy of the real world. According to this theory of Forms, there are these two kinds of things: the apparent world of material objects grasped by the senses, which constantly changes, and an unchanging and unseen world of Forms, grasped by reason (λογική). Plato\\'s Forms represent types of things, as well as properties, patterns, and relations, which are referred to as objects. Just as individual tables, chairs, and cars refer to objects in this world, \\'tableness\\', \\'chairness\\', and \\'carness\\', as well as e.g. justice, truth, and beauty refer to objects in another world. One of Plato\\'s most cited examples for the Forms were the truths of geometry, such as the Pythagorean theorem. The theory of Forms is first introduced in the Phaedo dialogue (also known as On the Soul), wherein Socrates disputes the pluralism of Anaxagoras, then the most popular response to Heraclitus and Parmenides.\\n\\n\\n=== The Soul ===\\n\\nFor Plato, as was characteristic of ancient Greek philosophy, the soul was that which gave life. Plato advocates a belief in the immortality of the soul, and several dialogues end with long speeches imagining the afterlife. In the Timaeus, Socrates locates the parts of the soul within the human body: Reason is located in the head, spirit in the top third of the torso, and the appetite in the middle third of the torso, down to the navel.\\nFurthermore, Plato evinces a belief in the theory of reincarnation in multiple dialogues (such as the Phaedo and Timaeus). Scholars debate whether he intends the theory to be literally true, however. He uses this idea of reincarnation to introduce the concept that knowledge is a matter of recollection of things acquainted with before one is born, and not of observation or study. Keeping with the theme of admitting his own ignorance, Socrates regularly complains of his forgetfulness. In the Meno, Socrates uses a geometrical example to expound Plato\\'s view that knowledge in this latter sense is acquired by recollection. Socrates elicits a fact concerning a geometrical construction from a slave boy, who could not have otherwise known the fact (due to the slave boy\\'s lack of education). The knowledge must be of, Socrates concludes, an eternal, non-perceptible Form.\\n\\n\\n=== Epistemology ===')]"
      ]
     },
     "execution_count": 8,
     "metadata": {},
     "output_type": "execute_result"
    }
   ],
   "source": [
    "retriever.invoke(\"When did Plato live?\")"
   ]
  },
  {
   "cell_type": "code",
   "execution_count": null,
   "metadata": {},
   "outputs": [],
   "source": []
  }
 ],
 "metadata": {
  "kernelspec": {
   "display_name": "course",
   "language": "python",
   "name": "python3"
  },
  "language_info": {
   "codemirror_mode": {
    "name": "ipython",
    "version": 3
   },
   "file_extension": ".py",
   "mimetype": "text/x-python",
   "name": "python",
   "nbconvert_exporter": "python",
   "pygments_lexer": "ipython3",
   "version": "3.10.10"
  }
 },
 "nbformat": 4,
 "nbformat_minor": 2
}
